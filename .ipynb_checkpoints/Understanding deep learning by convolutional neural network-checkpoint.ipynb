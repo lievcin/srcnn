{
 "cells": [
  {
   "cell_type": "markdown",
   "metadata": {},
   "source": [
    "# Understanding deep learning by convolutional neural network"
   ]
  },
  {
   "cell_type": "code",
   "execution_count": 1,
   "metadata": {},
   "outputs": [],
   "source": [
    "import numpy as np\n",
    "import tensorflow as tf"
   ]
  },
  {
   "cell_type": "code",
   "execution_count": null,
   "metadata": {},
   "outputs": [],
   "source": [
    "#Resetting the graph (just in case something in memory)\n",
    "tf.reset_default_graph()\n",
    "sess = tf.InteractiveSession()\n",
    "\n",
    "#Load the trained model\n",
    "with tf.Session() as sess:\n",
    "    saver = tf.train.import_meta_graph('checkpoint/srcnn_21/SRCNN.model-2550000.meta')\n",
    "    saver.restore(sess, tf.train.latest_checkpoint('checkpoint/srcnn_21/'))"
   ]
  },
  {
   "cell_type": "code",
   "execution_count": null,
   "metadata": {},
   "outputs": [],
   "source": [
    "init = tf.global_variables_initializer()\n",
    "\n",
    "#Parsing the weights of the first convolutional layer\n",
    "sess = tf.Session()\n",
    "sess.run(init)\n",
    "w1 = sess.run('w1:0')\n",
    "b1 = sess.run('b1:0')\n",
    "sess.close()\n",
    "print('Shape of first layer: ' + str(w1.shape))\n",
    "print('Number of filters: ' + str(w1.shape[3]))\n",
    "print('Size of filters: ' + str(w1.shape[0]) + 'x' + str(w1.shape[1]))\n",
    "print('Value of 1st filter:')\n",
    "print(w1[:,:,:,0])\n",
    "print('Value of 10th bias:')\n",
    "print(b1[9])"
   ]
  },
  {
   "cell_type": "code",
   "execution_count": null,
   "metadata": {},
   "outputs": [],
   "source": [
    "init = tf.global_variables_initializer()\n",
    "\n",
    "#Parsing the weights of the second convolutional layer\n",
    "sess = tf.Session()\n",
    "sess.run(init)\n",
    "w2 = sess.run('w2:0')\n",
    "b2 = sess.run('b2:0')\n",
    "sess.close()\n",
    "print('Shape of second layer: ' + str(w2.shape))\n",
    "print('Number of filters: ' + str(w2.shape[3]))\n",
    "print('Size of filters: ' + str(w2.shape[0]) + 'x' + str(w2.shape[1]))\n",
    "print('Value of 5th filter:')\n",
    "print(w2[:,:,:,4])\n",
    "print('Value of 6th bias:')\n",
    "print(b2[5])"
   ]
  },
  {
   "cell_type": "code",
   "execution_count": null,
   "metadata": {},
   "outputs": [],
   "source": [
    "init = tf.global_variables_initializer()\n",
    "\n",
    "#Parsing the weights of the third convolutional layer\n",
    "sess = tf.Session()\n",
    "sess.run(init)\n",
    "w3 = sess.run('w3:0')\n",
    "b3 = sess.run('b3:0')\n",
    "sess.close()\n",
    "print('Shape of second layer: ' + str(w3.shape))\n",
    "print('Number of filters: ' + str(w3.shape[3]))\n",
    "print('Size of filters: ' + str(w3.shape[0]) + 'x' + str(w3.shape[1]))\n",
    "print('Value of 1st filter:')\n",
    "print(w3[:,:,:,0])\n",
    "print('Value of 1st bias:')\n",
    "print(b3[0])"
   ]
  },
  {
   "cell_type": "code",
   "execution_count": null,
   "metadata": {},
   "outputs": [],
   "source": [
    "#Matrix operations\n",
    "v = [1, 2, 3, 4]\n",
    "v = np.asarray(v)\n",
    "v = np.reshape(v, (-1, 2))\n",
    "v += 2\n",
    "v2 = v\n",
    "v3 = v + v2\n",
    "v3"
   ]
  },
  {
   "cell_type": "code",
   "execution_count": 31,
   "metadata": {},
   "outputs": [],
   "source": [
    "#Performn a 2d convolution on a 2d matrix with a given filter\n",
    "import imageio\n",
    "init = tf.global_variables_initializer()\n",
    "\n",
    "butterfly_image = \"butterfly_GT.bmp\"\n",
    "image = np.array(imageio.imread(butterfly_image, flatten=False))\n",
    "#Just take one channel to make 2d\n",
    "image = image[:,:,0].astype(np.float32)\n",
    "fil = tf.Variable(tf.random_normal([9, 9, 1, 1], stddev=1e-3, seed=1), name='filter')\n",
    "image = tf.Variable(tf.random_normal([9, 9, 1, 1], stddev=1, seed=1, mean=10), name='filter')\n",
    "conv = tf.nn.conv2d(input=image,filter=fil, strides = [1,1,1,1], padding = 'SAME')\n",
    "conv = tf.nn.relu(conv)\n",
    "sess = tf.Session()\n",
    "sess.run(init)\n",
    "a = conv\n",
    "sess.close()"
   ]
  },
  {
   "cell_type": "code",
   "execution_count": null,
   "metadata": {},
   "outputs": [],
   "source": []
  }
 ],
 "metadata": {
  "kernelspec": {
   "display_name": "Python 3",
   "language": "python",
   "name": "python3"
  },
  "language_info": {
   "codemirror_mode": {
    "name": "ipython",
    "version": 3
   },
   "file_extension": ".py",
   "mimetype": "text/x-python",
   "name": "python",
   "nbconvert_exporter": "python",
   "pygments_lexer": "ipython3",
   "version": "3.6.2"
  }
 },
 "nbformat": 4,
 "nbformat_minor": 2
}
