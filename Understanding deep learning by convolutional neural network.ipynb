{
 "cells": [
  {
   "cell_type": "markdown",
   "metadata": {},
   "source": [
    "# Understanding deep learning by convolutional neural network"
   ]
  },
  {
   "cell_type": "code",
   "execution_count": 21,
   "metadata": {},
   "outputs": [],
   "source": [
    "import numpy as np\n",
    "import tensorflow as tf\n",
    "import matplotlib.pyplot as plt"
   ]
  },
  {
   "cell_type": "code",
   "execution_count": 8,
   "metadata": {},
   "outputs": [],
   "source": [
    "#Loading the trained model\n",
    "model_path='model/model.npy'\n",
    "model = np.load(model_path, encoding = 'latin1').item()"
   ]
  },
  {
   "cell_type": "code",
   "execution_count": 43,
   "metadata": {},
   "outputs": [
    {
     "name": "stdout",
     "output_type": "stream",
     "text": [
      "Shape of first layer: (9, 9, 1, 64)\n",
      "Number of filters: 64\n",
      "Size of filters: 9x9\n",
      "Value of 1st filter:\n",
      "Value of 10th bias:\n",
      "-0.000116358\n",
      "Visualise 1st filter:\n"
     ]
    },
    {
     "data": {
      "image/png": "[encoded data removed]",
      "text/plain": [
       "<matplotlib.figure.Figure at 0x11e06be48>"
      ]
     },
     "metadata": {},
     "output_type": "display_data"
    }
   ],
   "source": [
    "# init = tf.global_variables_initializer()\n",
    "\n",
    "#Parsing the weights of the first convolutional layer\n",
    "w1 = model['w1']\n",
    "b1 = model['b1']\n",
    "\n",
    "print('Shape of first layer: ' + str(w1.shape))\n",
    "print('Number of filters: ' + str(w1.shape[3]))\n",
    "print('Size of filters: ' + str(w1.shape[0]) + 'x' + str(w1.shape[1]))\n",
    "print('Value of 1st filter:')\n",
    "# print(w1[:,:,:,0])\n",
    "print('Value of 10th bias:')\n",
    "print(b1[9])\n",
    "print('Visualise 1st filter:')\n",
    "filt =w1[:,:,:,0]\n",
    "filt = np.reshape(filt, (9,9))\n",
    "plt.imshow(filt)\n",
    "plt.show()\n"
   ]
  },
  {
   "cell_type": "code",
   "execution_count": 45,
   "metadata": {},
   "outputs": [
    {
     "name": "stdout",
     "output_type": "stream",
     "text": [
      "Shape of second layer: (1, 1, 64, 32)\n",
      "Number of filters: 32\n",
      "Size of filters: 1x1\n",
      "Value of 5th filter:\n",
      "Value of 6th bias:\n",
      "0.000197887\n"
     ]
    }
   ],
   "source": [
    "#Parsing the weights of the second convolutional layer\n",
    "w2 = model['w2']\n",
    "b2 = model['b2']\n",
    "\n",
    "print('Shape of second layer: ' + str(w2.shape))\n",
    "print('Number of filters: ' + str(w2.shape[3]))\n",
    "print('Size of filters: ' + str(w2.shape[0]) + 'x' + str(w2.shape[1]))\n",
    "print('Value of 5th filter:')\n",
    "# print(w2[:,:,:,4])\n",
    "print('Value of 6th bias:')\n",
    "print(b1[5])"
   ]
  },
  {
   "cell_type": "code",
   "execution_count": 56,
   "metadata": {},
   "outputs": [
    {
     "name": "stdout",
     "output_type": "stream",
     "text": [
      "Shape of third layer: (5, 5, 32, 1)\n",
      "Number of filters: 1\n",
      "Size of filters: 5x5\n",
      "Value of 1st filter:\n",
      "Value of 1st bias:\n",
      "0.0907501\n",
      "Visualise 1st filter:\n"
     ]
    },
    {
     "data": {
      "image/png": "[encoded data removed]",
      "text/plain": [
       "<matplotlib.figure.Figure at 0x11f6bd0f0>"
      ]
     },
     "metadata": {},
     "output_type": "display_data"
    }
   ],
   "source": [
    "#Parsing the weights of the third convolutional layer\n",
    "w3 = model['w3']\n",
    "b3 = model['b3']\n",
    "\n",
    "print('Shape of third layer: ' + str(w3.shape))\n",
    "print('Number of filters: ' + str(w3.shape[3]))\n",
    "print('Size of filters: ' + str(w3.shape[0]) + 'x' + str(w3.shape[1]))\n",
    "print('Value of 1st filter:')\n",
    "# print(w3[:,:,:,0])\n",
    "print('Value of 1st bias:')\n",
    "print(b3[0])\n",
    "print('Visualise 1st filter:')\n",
    "plt.imshow(w3[:,:,0,0])\n",
    "plt.show()"
   ]
  },
  {
   "cell_type": "code",
   "execution_count": 57,
   "metadata": {},
   "outputs": [
    {
     "data": {
      "text/plain": [
       "array([[ 6,  8],\n",
       "       [10, 12]])"
      ]
     },
     "execution_count": 57,
     "metadata": {},
     "output_type": "execute_result"
    }
   ],
   "source": [
    "#Matrix operations\n",
    "v = [1, 2, 3, 4]\n",
    "v = np.asarray(v)\n",
    "v = np.reshape(v, (-1, 2))\n",
    "v += 2\n",
    "v2 = v\n",
    "v3 = v + v2\n",
    "v3"
   ]
  },
  {
   "cell_type": "code",
   "execution_count": 58,
   "metadata": {},
   "outputs": [],
   "source": [
    "#Performn a 2d convolution on a 2d matrix with a given filter\n",
    "import imageio\n",
    "init = tf.global_variables_initializer()\n",
    "\n",
    "butterfly_image = \"butterfly_GT.bmp\"\n",
    "image = np.array(imageio.imread(butterfly_image, flatten=False))\n",
    "#Just take one channel to make 2d\n",
    "image = image[:,:,0].astype(np.float32)\n",
    "fil = tf.Variable(tf.random_normal([9, 9, 1, 1], stddev=1e-3, seed=1), name='filter')\n",
    "image = tf.Variable(tf.random_normal([9, 9, 1, 1], stddev=1, seed=1, mean=10), name='filter')\n",
    "conv = tf.nn.conv2d(input=image,filter=fil, strides = [1,1,1,1], padding = 'SAME')\n",
    "conv = tf.nn.relu(conv)\n",
    "sess = tf.Session()\n",
    "sess.run(init)\n",
    "a = conv\n",
    "sess.close()"
   ]
  },
  {
   "cell_type": "code",
   "execution_count": null,
   "metadata": {},
   "outputs": [],
   "source": []
  }
 ],
 "metadata": {
  "kernelspec": {
   "display_name": "Python 3",
   "language": "python",
   "name": "python3"
  },
  "language_info": {
   "codemirror_mode": {
    "name": "ipython",
    "version": 3
   },
   "file_extension": ".py",
   "mimetype": "text/x-python",
   "name": "python",
   "nbconvert_exporter": "python",
   "pygments_lexer": "ipython3",
   "version": "3.6.2"
  }
 },
 "nbformat": 4,
 "nbformat_minor": 2
}
